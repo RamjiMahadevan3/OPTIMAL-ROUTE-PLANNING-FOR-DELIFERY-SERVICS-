{
  "nbformat": 4,
  "nbformat_minor": 0,
  "metadata": {
    "colab": {
      "provenance": [],
      "authorship_tag": "ABX9TyP9a9Kgko8JIrZGBPSBB6k0",
      "include_colab_link": true
    },
    "kernelspec": {
      "name": "python3",
      "display_name": "Python 3"
    },
    "language_info": {
      "name": "python"
    }
  },
  "cells": [
    {
      "cell_type": "markdown",
      "metadata": {
        "id": "view-in-github",
        "colab_type": "text"
      },
      "source": [
        "<a href=\"https://colab.research.google.com/github/RamjiMahadevan3/OPTIMAL-ROUTE-PLANNING-FOR-DELIFERY-SERVICS-/blob/main/OPTIMAL_ROUTE_PLANNING_FOR_DELIFERY_SERVICS_.ipynb\" target=\"_parent\"><img src=\"https://colab.research.google.com/assets/colab-badge.svg\" alt=\"Open In Colab\"/></a>"
      ]
    },
    {
      "cell_type": "code",
      "execution_count": 1,
      "metadata": {
        "colab": {
          "base_uri": "https://localhost:8080/"
        },
        "id": "yN8-SMcOGEnb",
        "outputId": "3f6001ca-2197-4457-c805-cc5acbe309d2"
      },
      "outputs": [
        {
          "output_type": "stream",
          "name": "stdout",
          "text": [
            "Optimized route: ['B', 'A', 'C', 'E', 'D']\n",
            "Optimized distance: 75\n"
          ]
        }
      ],
      "source": [
        "import numpy as np\n",
        "\n",
        "# Example data for delivery destinations and distances between them\n",
        "destinations = ['A', 'B', 'C', 'D', 'E']\n",
        "distances = np.array([\n",
        "    [0, 10, 15, 20, 25],\n",
        "    [10, 0, 35, 25, 20],\n",
        "    [15, 35, 0, 30, 10],\n",
        "    [20, 25, 30, 0, 15],\n",
        "    [25, 20, 10, 15, 0]\n",
        "])\n",
        "\n",
        "# Function to calculate the total distance of a route\n",
        "def calculate_distance(route, distances):\n",
        "    total_distance = 0\n",
        "    for i in range(len(route)-1):\n",
        "        total_distance += distances[route[i]][route[i+1]]\n",
        "    total_distance += distances[route[-1]][route[0]]\n",
        "    return total_distance\n",
        "\n",
        "# Function to implement the traveling salesman algorithm\n",
        "def tsp(distances):\n",
        "    num_destinations = len(distances)\n",
        "    # Initialize the starting route as a random permutation of the destinations\n",
        "    current_route = np.random.permutation(num_destinations)\n",
        "\n",
        "    # Initialize the best route as the starting route\n",
        "    best_route = current_route.copy()\n",
        "    # Set the best distance as the distance of the starting route\n",
        "    best_distance = calculate_distance(best_route, distances)\n",
        "\n",
        "    # Set the maximum number of iterations for the algorithm\n",
        "    max_iterations = 1000\n",
        "    for i in range(max_iterations):\n",
        "        # Generate a new candidate route by swapping two random destinations in the current route\n",
        "        candidate_route = current_route.copy()\n",
        "        rand_indices = np.random.choice(num_destinations, size=2, replace=False)\n",
        "        candidate_route[rand_indices[0]], candidate_route[rand_indices[1]] = candidate_route[rand_indices[1]], candidate_route[rand_indices[0]]\n",
        "\n",
        "        # Calculate the distance of the candidate route\n",
        "        candidate_distance = calculate_distance(candidate_route, distances)\n",
        "\n",
        "        # If the candidate route is better than the current best route, update the best route\n",
        "        if candidate_distance < best_distance:\n",
        "            best_route = candidate_route.copy()\n",
        "            best_distance = candidate_distance\n",
        "        # If the candidate route is worse than the current route, accept it with a certain probability based on the temperature parameter\n",
        "        else:\n",
        "            temperature = 100.0 * (1.0 - i/max_iterations)\n",
        "            if np.exp((best_distance - candidate_distance)/temperature) > np.random.rand():\n",
        "                current_route = candidate_route.copy()\n",
        "\n",
        "    return best_route, best_distance\n",
        "\n",
        "# Call the tsp function to optimize the delivery routes\n",
        "best_route, best_distance = tsp(distances)\n",
        "\n",
        "# Print the optimized route and distance\n",
        "print(\"Optimized route:\", [destinations[i] for i in best_route])\n",
        "print(\"Optimized distance:\", best_distance)\n"
      ]
    }
  ]
}